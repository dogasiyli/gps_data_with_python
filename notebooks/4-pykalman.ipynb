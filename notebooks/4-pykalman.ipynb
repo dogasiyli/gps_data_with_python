{
 "cells": [
  {
   "cell_type": "code",
   "execution_count": 2,
   "metadata": {
    "collapsed": false
   },
   "outputs": [],
   "source": [
    "%matplotlib inline\n",
    "import seaborn as sns\n",
    "sns.set_style(\"whitegrid\")\n",
    "sns.set_context(\"talk\")\n",
    "import platform\n",
    "\n",
    "%load_ext autoreload\n",
    "%autoreload 2"
   ]
  },
  {
   "cell_type": "code",
   "execution_count": 3,
   "metadata": {
    "collapsed": true
   },
   "outputs": [],
   "source": [
    "from kalman_steps import *\n",
    "from helpers import *"
   ]
  },
  {
   "cell_type": "code",
   "execution_count": 15,
   "metadata": {},
   "outputs": [],
   "source": [
    "TIME_INTERVAL_TO_USE = \"1s\"\n",
    "pd.set_option('display.max_rows', 500)\n",
    "pd.set_option('display.max_columns', 500)\n",
    "pd.set_option('display.width', 1000)"
   ]
  },
  {
   "cell_type": "code",
   "execution_count": 5,
   "metadata": {},
   "outputs": [
    {
     "name": "stdout",
     "output_type": "stream",
     "text": [
      "Identifiers:\n",
      "0: basak run 02 (this is the second run to compare with the first run))\n",
      "1: basak run 01 (this is the first run to compare with the second run))\n",
      "2: my run 01 (my run on the xth of y at xx:yy))\n",
      "3: my run 02 (my run on the xth of y at xx:yy))\n"
     ]
    }
   ],
   "source": [
    "file_identifiers = load_identifiers();\n",
    "file_name = file_identifiers[\"basak run 01\"][\"file_name\"]\n",
    "additional_run_info = {}"
   ]
  },
  {
   "cell_type": "code",
   "execution_count": 6,
   "metadata": {},
   "outputs": [
    {
     "name": "stdout",
     "output_type": "stream",
     "text": [
      "/home/dgy/GitHubUbuntU/gps_data_with_python/gpx/activity_11238879870.gpx\n",
      "/home/dgy/GitHubUbuntU/gps_data_with_python/gpx/hh_marathon.gpx\n",
      "/home/dgy/GitHubUbuntU/gps_data_with_python/gpx/activity_11238893125_basak02.gpx\n",
      "/home/dgy/GitHubUbuntU/gps_data_with_python/gpx/activity_11212422262.gpx\n",
      "/home/dgy/GitHubUbuntU/gps_data_with_python/gpx/3-laender-giro_cleaned.gpx\n",
      "/home/dgy/GitHubUbuntU/gps_data_with_python/gpx/3-laender-giro.gpx\n",
      "/home/dgy/GitHubUbuntU/gps_data_with_python/gpx/activity_11231936537_basak01.gpx\n",
      "Loading file: /home/dgy/GitHubUbuntU/gps_data_with_python/gpx/activity_11231936537_basak01.gpx\n",
      "num of tracks=1\n"
     ]
    }
   ],
   "source": [
    "gpx_obj, segment = step_01_load_data(file_name)"
   ]
  },
  {
   "attachments": {},
   "cell_type": "markdown",
   "metadata": {},
   "source": [
    "## STEP-01 : Initial calculation of up-down hill"
   ]
  },
  {
   "cell_type": "code",
   "execution_count": 7,
   "metadata": {
    "collapsed": false,
    "scrolled": false
   },
   "outputs": [
    {
     "data": {
      "text/plain": [
       "UphillDownhill(uphill=303.55997962951676, downhill=307.7599842071533)"
      ]
     },
     "execution_count": 7,
     "metadata": {},
     "output_type": "execute_result"
    }
   ],
   "source": [
    "segment.get_uphill_downhill()"
   ]
  },
  {
   "attachments": {},
   "cell_type": "markdown",
   "metadata": {},
   "source": [
    "## STEP-02 : Lets find possible paused points \n",
    "### according to no info for more than 10 seconds"
   ]
  },
  {
   "cell_type": "code",
   "execution_count": 36,
   "metadata": {},
   "outputs": [
    {
     "name": "stdout",
     "output_type": "stream",
     "text": [
      "Training started on 30th of May 2023 at 15:00PM.\n",
      "Pause point at index 52: Activity time so far: 02'57\" seconds\n",
      "Pause point at index 322: Activity time so far: 15'50\" seconds\n",
      "Pause point at index 489: Activity time so far: 25'12\" seconds\n",
      "Pause point at index 736: Activity time so far: 36'59\" seconds\n",
      "Pause point at index 839: Activity time so far: 41'23\" seconds\n",
      "Pause point at index 1006: Activity time so far: 48'58\" seconds\n",
      "Pause point at index 1055: Activity time so far: 51'40\" seconds\n",
      "Pause point at index 1134: Activity time so far: 55'49\" seconds\n",
      "Pause point at index 1235: Activity time so far: 1:46\" seconds\n",
      "Pause point at index 1245: Activity time so far: 1:01'5\" seconds\n",
      "Pause point at index 1468: Activity time so far: 1:12'42\" seconds\n",
      "Pause point at index 1571: Activity time so far: 1:17'54\" seconds\n",
      "Pause point at index 1696: Activity time so far: 1:24'21\" seconds\n",
      "acttive df = \n",
      "    id  first_idx  last_idx  duration  init_second  final_second  tot_activity_time\n",
      "0    0          0        51       177            0           177                177\n",
      "1    1         52       321       773          348          1121                950\n",
      "2    2        322       488       562         1229          1791               1512\n",
      "3    3        489       735       707         1981          2688               2219\n",
      "4    4        736       838       264         2708          2972               2483\n",
      "5    5        839      1005       455         3400          3855               2938\n",
      "6    6       1006      1054       162         3927          4089               3100\n",
      "7    7       1055      1133       249         4110          4359               3349\n",
      "8    8       1134      1234       297         4457          4754               3646\n",
      "9    9       1235      1244        19         4808          4827               3665\n",
      "10  10       1245      1467       697         4847          5544               4362\n",
      "11  11       1468      1570       312         5644          5956               4674\n",
      "12  12       1571      1695       387         6005          6392               5061\n",
      "pause df = \n",
      "    id   idx  duration  init_second  final_second\n",
      "0    0    52       171          177           348\n",
      "1    1   322       108         1121          1229\n",
      "2    2   489       190         1791          1981\n",
      "3    3   736        20         2688          2708\n",
      "4    4   839       428         2972          3400\n",
      "5    5  1006        72         3855          3927\n",
      "6    6  1055        21         4089          4110\n",
      "7    7  1134        98         4359          4457\n",
      "8    8  1235        54         4754          4808\n",
      "9    9  1245        20         4827          4847\n",
      "10  10  1468       100         5544          5644\n",
      "11  11  1571        49         5956          6005\n"
     ]
    },
    {
     "data": {
      "image/png": "[encoded data removed]",
      "text/plain": [
       "<Figure size 1200x600 with 1 Axes>"
      ]
     },
     "metadata": {},
     "output_type": "display_data"
    }
   ],
   "source": [
    "additional_run_info = step_xx0_find_possible_pause_points(segment, additional_run_info, min_pause_time=10, verbose=1, plot_level=1)"
   ]
  },
  {
   "attachments": {},
   "cell_type": "markdown",
   "metadata": {},
   "source": [
    "## STEP-03 : Lets find initial speed and distance"
   ]
  },
  {
   "cell_type": "code",
   "execution_count": null,
   "metadata": {
    "collapsed": false,
    "scrolled": true
   },
   "outputs": [],
   "source": [
    "speed_dict = {}\n",
    "step_02_initial_speed(gpx_obj, segment, speed_dict, True)"
   ]
  },
  {
   "cell_type": "code",
   "execution_count": null,
   "metadata": {},
   "outputs": [],
   "source": [
    "plot_all_keys(speed_dict, additional_run_info)\n",
    "plot_all_key_difs(speed_dict)"
   ]
  },
  {
   "attachments": {},
   "cell_type": "markdown",
   "metadata": {},
   "source": [
    "## STEP-04 : Convert segment info to coords"
   ]
  },
  {
   "cell_type": "code",
   "execution_count": null,
   "metadata": {
    "collapsed": false,
    "scrolled": false
   },
   "outputs": [],
   "source": [
    "coords = step_03_segments_to_coords_pd(segment)\n",
    "print(coords.tail(3))"
   ]
  },
  {
   "attachments": {},
   "cell_type": "markdown",
   "metadata": {},
   "source": [
    "### Oh... time interval is not always 1sec, let's do something about that and round to nearest sec"
   ]
  },
  {
   "cell_type": "code",
   "execution_count": null,
   "metadata": {
    "collapsed": false,
    "scrolled": false
   },
   "outputs": [],
   "source": [
    "step_04_round_time(coords, frequency=TIME_INTERVAL_TO_USE)\n",
    "coords.tail(5)"
   ]
  },
  {
   "attachments": {},
   "cell_type": "markdown",
   "metadata": {},
   "source": [
    "### Do we have signal loss?"
   ]
  },
  {
   "cell_type": "code",
   "execution_count": null,
   "metadata": {
    "collapsed": false,
    "scrolled": false
   },
   "outputs": [],
   "source": [
    "plot_time_dif_counts(coords)"
   ]
  },
  {
   "attachments": {},
   "cell_type": "markdown",
   "metadata": {},
   "source": [
    "### Okay, let's resample with 1 sec intevals and fill up with NaN"
   ]
  },
  {
   "cell_type": "code",
   "execution_count": null,
   "metadata": {
    "collapsed": false,
    "scrolled": false
   },
   "outputs": [],
   "source": [
    "coords = step_05_resample(coords=coords, freq=TIME_INTERVAL_TO_USE)"
   ]
  },
  {
   "cell_type": "code",
   "execution_count": null,
   "metadata": {},
   "outputs": [],
   "source": [
    "print(coords.loc[:].head())\n",
    "print(coords.loc[coords.ele.isnull()].head())\n",
    "plot_time_dif_counts(coords)"
   ]
  },
  {
   "attachments": {},
   "cell_type": "markdown",
   "metadata": {},
   "source": [
    "### Almost done. Now convert to good old numpy array and mask NaNs"
   ]
  },
  {
   "cell_type": "code",
   "execution_count": null,
   "metadata": {
    "collapsed": false
   },
   "outputs": [],
   "source": [
    "measurements = step_06_get_measurements_from_coords(coords, additional_run_info) # lon-0 lat-1 ele-2"
   ]
  },
  {
   "attachments": {},
   "cell_type": "markdown",
   "metadata": {},
   "source": [
    "### So where did I lose the GPS signal?"
   ]
  },
  {
   "cell_type": "code",
   "execution_count": null,
   "metadata": {},
   "outputs": [],
   "source": [
    "step_07_fill_nan_values(coords, measurements, additional_run_info, 2);"
   ]
  },
  {
   "attachments": {},
   "cell_type": "markdown",
   "metadata": {},
   "source": [
    "### Let's set up the Kalman Filter"
   ]
  },
  {
   "cell_type": "code",
   "execution_count": null,
   "metadata": {
    "collapsed": false
   },
   "outputs": [],
   "source": [
    "kf, kf_dict = step_08_setup_kalman_filter(measurements)"
   ]
  },
  {
   "attachments": {},
   "cell_type": "markdown",
   "metadata": {},
   "source": [
    "### Compare now our measurements with a smoothed track"
   ]
  },
  {
   "cell_type": "code",
   "execution_count": null,
   "metadata": {
    "collapsed": true
   },
   "outputs": [],
   "source": [
    "state_means, state_vars = step_09_apply_kalman(kf, measurements)"
   ]
  },
  {
   "cell_type": "code",
   "execution_count": null,
   "metadata": {
    "collapsed": false,
    "scrolled": true
   },
   "outputs": [],
   "source": [
    "step_10_plot_smoothed_vs_measured(state_means, measurements, additional_run_info)"
   ]
  },
  {
   "attachments": {},
   "cell_type": "markdown",
   "metadata": {},
   "source": [
    "### Let's write the smoothed data back into our dataframe and GPX file"
   ]
  },
  {
   "cell_type": "code",
   "execution_count": null,
   "metadata": {
    "collapsed": false
   },
   "outputs": [],
   "source": [
    "coords, orig_coords = step_11_15_22_update_coords(state_means, coords, segment, original_coords_idx)"
   ]
  },
  {
   "cell_type": "code",
   "execution_count": null,
   "metadata": {
    "collapsed": false,
    "scrolled": true
   },
   "outputs": [],
   "source": [
    "segment.get_uphill_downhill()"
   ]
  },
  {
   "attachments": {},
   "cell_type": "markdown",
   "metadata": {},
   "source": [
    "### Yes, that sounds much more realistic!!! Let's also check the speed"
   ]
  },
  {
   "cell_type": "code",
   "execution_count": null,
   "metadata": {
    "collapsed": false,
    "scrolled": true
   },
   "outputs": [],
   "source": [
    "speed = step_12_16_23_add_missing_speeds(gpx_obj, segment, speed_dict, 'speed_1_after_kalman', plot_after_add=True)"
   ]
  },
  {
   "attachments": {},
   "cell_type": "markdown",
   "metadata": {},
   "source": [
    "### Arrrggh!!! Still not good! What the heck is going on?"
   ]
  },
  {
   "cell_type": "code",
   "execution_count": null,
   "metadata": {},
   "outputs": [],
   "source": [
    "plot_all_key_difs(speed_dict)"
   ]
  },
  {
   "cell_type": "code",
   "execution_count": null,
   "metadata": {
    "collapsed": false
   },
   "outputs": [],
   "source": [
    "high_speed_block = step_13_get_high_speed_block(speed, measurements, segment, plot_result=True, verbose=False)"
   ]
  },
  {
   "attachments": {},
   "cell_type": "markdown",
   "metadata": {},
   "source": [
    "### Here we have one of the hyperspeed points, so what happens here? Points seem to stack..."
   ]
  },
  {
   "attachments": {},
   "cell_type": "markdown",
   "metadata": {},
   "source": [
    "### Looking at these numbers the sensors seems to be quite inert! Let's just eliminate unlikely points and their surroundings by using the covariance given by the Kalman filter!"
   ]
  },
  {
   "cell_type": "code",
   "execution_count": null,
   "metadata": {
    "collapsed": false
   },
   "outputs": [],
   "source": [
    "measurements, bad_readings = step_14_find_bad_readings_from_variance(measurements, state_vars, verbose=True)"
   ]
  },
  {
   "cell_type": "code",
   "execution_count": null,
   "metadata": {
    "collapsed": false
   },
   "outputs": [],
   "source": [
    "state_means, state_vars = kf.smooth(measurements)"
   ]
  },
  {
   "attachments": {},
   "cell_type": "markdown",
   "metadata": {},
   "source": [
    "### Write it back our GPX file again"
   ]
  },
  {
   "cell_type": "code",
   "execution_count": null,
   "metadata": {
    "collapsed": false
   },
   "outputs": [],
   "source": [
    "coords, orig_coords = step_11_15_22_update_coords(state_means, coords, segment, original_coords_idx)"
   ]
  },
  {
   "cell_type": "code",
   "execution_count": null,
   "metadata": {
    "collapsed": false,
    "scrolled": false
   },
   "outputs": [],
   "source": [
    "speed = step_12_16_23_add_missing_speeds(gpx_obj, segment, speed_dict, 'speed_2_add_missing', plot_after_add=True)"
   ]
  },
  {
   "attachments": {},
   "cell_type": "markdown",
   "metadata": {},
   "source": [
    "### We are getting there! Let's take a look where the problem is..."
   ]
  },
  {
   "cell_type": "code",
   "execution_count": null,
   "metadata": {
    "collapsed": false,
    "scrolled": true
   },
   "outputs": [],
   "source": [
    "step_17_21_calc_speed_with_corrected_positions(state_means, speed_dict, \"speed_3_after_calc\", measurements, high_speed_block, verbose=False, plot_result=2)"
   ]
  },
  {
   "attachments": {},
   "cell_type": "markdown",
   "metadata": {},
   "source": [
    "### mmhhh.. okay, that's hard. The GPS sensor has fallen behind in a curve, followed by \"normal\" readings then has caught up with the actual position"
   ]
  },
  {
   "cell_type": "code",
   "execution_count": null,
   "metadata": {
    "collapsed": false,
    "scrolled": false
   },
   "outputs": [],
   "source": [
    "outliers_idx = step_18_check_for_outliers_by_strong_accelerations(speed_dict[\"speed_3_after_calc\"], measurements, plot_result=True)"
   ]
  },
  {
   "attachments": {},
   "cell_type": "markdown",
   "metadata": {},
   "source": [
    "### Okay, let's just remove those points with surroundings and let Kalman do the rest"
   ]
  },
  {
   "cell_type": "code",
   "execution_count": null,
   "metadata": {
    "collapsed": false
   },
   "outputs": [],
   "source": [
    "state_means, state_vars, measurements = step_19_mask_around_outliers(kf, measurements, outliers_idx, neighbour_cnt=12)"
   ]
  },
  {
   "cell_type": "code",
   "execution_count": null,
   "metadata": {
    "collapsed": false
   },
   "outputs": [],
   "source": [
    "state_means, state_vars = step_20_apply_kalman(state_means, state_vars, kf, n_times=20)"
   ]
  },
  {
   "cell_type": "code",
   "execution_count": null,
   "metadata": {
    "collapsed": false,
    "scrolled": true
   },
   "outputs": [],
   "source": [
    "step_17_21_calc_speed_with_corrected_positions(state_means, speed_dict, \"speed_4_after_calc20\", measurements, high_speed_block, verbose=False, plot_result=1)"
   ]
  },
  {
   "cell_type": "code",
   "execution_count": null,
   "metadata": {
    "collapsed": false,
    "scrolled": true
   },
   "outputs": [],
   "source": [
    "plot_all_keys(speed_dict,fr_to=[min(high_speed_block),max(high_speed_block)])\n",
    "#plt.plot(speed_dict[\"speed_4_after_calc20\"][min(use_sub_arr):max(use_sub_arr)], '.')"
   ]
  },
  {
   "cell_type": "code",
   "execution_count": null,
   "metadata": {
    "collapsed": false,
    "scrolled": false
   },
   "outputs": [],
   "source": [
    "plt.plot(measurements[high_speed_block,0], measurements[high_speed_block,1], 'ro', label='measured', markersize=10)\n",
    "plt.plot(state_means[high_speed_block,0], state_means[high_speed_block,1], 'g.',label='smoothed', markersize=8)\n",
    "plt.legend()\n",
    "plt.show()"
   ]
  },
  {
   "cell_type": "code",
   "execution_count": null,
   "metadata": {
    "collapsed": false
   },
   "outputs": [],
   "source": [
    "coords, orig_coords = step_11_15_22_update_coords(state_means, coords, segment, original_coords_idx)"
   ]
  },
  {
   "cell_type": "code",
   "execution_count": null,
   "metadata": {
    "collapsed": false,
    "scrolled": true
   },
   "outputs": [],
   "source": [
    "segment.get_uphill_downhill()"
   ]
  },
  {
   "attachments": {},
   "cell_type": "markdown",
   "metadata": {},
   "source": [
    "### Finally, write everything back to the GPX file"
   ]
  },
  {
   "cell_type": "code",
   "execution_count": null,
   "metadata": {
    "collapsed": false
   },
   "outputs": [],
   "source": [
    "speed = step_12_16_23_add_missing_speeds(gpx_obj, segment, speed_dict, 'speed_5_after_final', plot_after_add=True)"
   ]
  },
  {
   "cell_type": "code",
   "execution_count": null,
   "metadata": {},
   "outputs": [],
   "source": [
    "plot_all_key_difs(speed_dict)"
   ]
  },
  {
   "cell_type": "code",
   "execution_count": null,
   "metadata": {},
   "outputs": [],
   "source": [
    "step_10_plot_smoothed_vs_measured(state_means, measurements)"
   ]
  },
  {
   "attachments": {},
   "cell_type": "markdown",
   "metadata": {},
   "source": [
    "1- kalman filtreye girdiğinde state_means üzerinden distance toplamına odaklan\\n\n",
    "   ne kadar değişiyor her iiterasyonda \\n\n",
    "2- aynı zamanda elevation da\\n\n",
    "   elevation smooth ettikçe azalıyor - bir hata var o işte\\n\n",
    "3- bir de elevation bilgisini gps bilgisinden alma vardı. o nerede?\\n\n",
    "4- niye 3600 elemanlı veri var? "
   ]
  },
  {
   "cell_type": "code",
   "execution_count": null,
   "metadata": {
    "collapsed": false,
    "scrolled": true
   },
   "outputs": [],
   "source": [
    "#with open('../gpx/3-laender-giro_cleaned.gpx', 'w') as fh:\n",
    "#    fh.write(gpx_file.to_xml())"
   ]
  }
 ],
 "metadata": {
  "kernelspec": {
   "display_name": "Python 3",
   "language": "python",
   "name": "python3"
  },
  "language_info": {
   "codemirror_mode": {
    "name": "ipython",
    "version": 3
   },
   "file_extension": ".py",
   "mimetype": "text/x-python",
   "name": "python",
   "nbconvert_exporter": "python",
   "pygments_lexer": "ipython3",
   "version": "3.9.16"
  }
 },
 "nbformat": 4,
 "nbformat_minor": 0
}
