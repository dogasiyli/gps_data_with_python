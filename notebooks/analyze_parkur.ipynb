{
 "cells": [
  {
   "cell_type": "code",
   "execution_count": null,
   "id": "da118289",
   "metadata": {},
   "outputs": [],
   "source": [
    "%matplotlib inline\n",
    "import seaborn as sns\n",
    "sns.set_style(\"whitegrid\")\n",
    "sns.set_context(\"talk\")\n",
    "import platform\n",
    "\n",
    "%load_ext autoreload\n",
    "%autoreload 2"
   ]
  },
  {
   "cell_type": "code",
   "execution_count": null,
   "id": "2905d78b",
   "metadata": {},
   "outputs": [],
   "source": [
    "from kalman_steps import *\n",
    "from helpers import *"
   ]
  },
  {
   "cell_type": "code",
   "execution_count": null,
   "id": "028376a0",
   "metadata": {},
   "outputs": [],
   "source": [
    "TIME_INTERVAL_TO_USE = \"1s\"\n",
    "pd.set_option('display.max_rows', 500)\n",
    "pd.set_option('display.max_columns', 500)\n",
    "pd.set_option('display.width', 1000)\n",
    "# Convert the time interval string to a pandas Timedelta object\n",
    "time_interval = pd.Timedelta(TIME_INTERVAL_TO_USE)\n",
    "# Extract the total seconds from the Timedelta object and convert to float\n",
    "time_interval_in_seconds = time_interval.total_seconds()\n",
    "print(f\"Time interval in seconds: {time_interval_in_seconds}\")"
   ]
  },
  {
   "cell_type": "code",
   "execution_count": null,
   "id": "7d575928",
   "metadata": {},
   "outputs": [],
   "source": [
    "file_identifiers = load_identifiers();\n",
    "pick_ident = \"kyzikos_run\"\n",
    "file_name = file_identifiers[pick_ident][\"file_name\"]\n",
    "file_ident = file_identifiers[pick_ident]\n",
    "additional_run_info = {}"
   ]
  },
  {
   "cell_type": "code",
   "execution_count": null,
   "id": "7a3f8267",
   "metadata": {},
   "outputs": [],
   "source": [
    "gpx_obj, segment = step_01_load_data(file_name)"
   ]
  },
  {
   "cell_type": "code",
   "execution_count": null,
   "id": "7dff06de",
   "metadata": {},
   "outputs": [],
   "source": [
    "print_known_info(file_ident, [\"total_elevation\"])\n",
    "segment.get_uphill_downhill()"
   ]
  },
  {
   "cell_type": "code",
   "execution_count": null,
   "id": "0f1b0b27",
   "metadata": {},
   "outputs": [],
   "source": [
    "coords = pd.DataFrame([{'lat': p.latitude, \n",
    "                        'lon': p.longitude, \n",
    "                        'ele': p.elevation,\n",
    "                        'time': p.time} for p in segment.points])\n",
    "coords.set_index('time', drop=True, inplace=True)\n",
    "coords.head()"
   ]
  },
  {
   "cell_type": "code",
   "execution_count": null,
   "id": "564f775e",
   "metadata": {},
   "outputs": [],
   "source": [
    "for point in segment.points:\n",
    "    point.elevation = None"
   ]
  },
  {
   "cell_type": "code",
   "execution_count": null,
   "id": "c8f11f6d",
   "metadata": {},
   "outputs": [],
   "source": [
    "import srtm\n",
    "elevation_data = srtm.get_data()\n",
    "elevation_data.add_elevations(gpx_obj, smooth=True)"
   ]
  },
  {
   "cell_type": "code",
   "execution_count": null,
   "id": "4c4550cb",
   "metadata": {},
   "outputs": [],
   "source": [
    "coords['new_ele'] = [p.elevation for p in gpx_obj.tracks[0].segments[0].points]"
   ]
  },
  {
   "cell_type": "code",
   "execution_count": null,
   "id": "3e6f50d9",
   "metadata": {},
   "outputs": [],
   "source": [
    "segment.get_uphill_downhill()"
   ]
  },
  {
   "cell_type": "code",
   "execution_count": null,
   "id": "e8ebaa02",
   "metadata": {},
   "outputs": [],
   "source": [
    "coords.head()"
   ]
  },
  {
   "cell_type": "code",
   "execution_count": null,
   "id": "bdfb3049",
   "metadata": {},
   "outputs": [],
   "source": [
    "_, distance_vincenty = calc_speed_distance_vincent(segment, verbose=False)\n",
    "print(f\"in {len(distance_vincenty)} points max distance between 2 points is {np.max(distance_vincenty):4.2f} whereas min is {np.min(distance_vincenty[distance_vincenty>0]):4.2f}\")"
   ]
  },
  {
   "cell_type": "code",
   "execution_count": null,
   "id": "b1713565",
   "metadata": {},
   "outputs": [],
   "source": [
    "total_elevation_change = sum(abs(coords['new_ele'][1:]-coords['new_ele'][0:-1]))/2\n",
    "print(f\"total_elevation_change={total_elevation_change:4.2f} meters\")"
   ]
  },
  {
   "cell_type": "code",
   "execution_count": null,
   "id": "e46525a0",
   "metadata": {},
   "outputs": [],
   "source": [
    "elev_acquired=coords['new_ele'][1:]-coords['new_ele'][0:-1]\n",
    "elev_acquired = elev_acquired.reset_index(drop=True)\n",
    "elev_values = elev_acquired.tolist()\n",
    "\n",
    "dist_acquired = distance_vincenty[1:]\n",
    "angles = np.arctan2(elev_values, dist_acquired)\n",
    "dist_acc = np.cumsum(dist_acquired)\n",
    "elev_acc = np.cumsum(elev_values)"
   ]
  },
  {
   "cell_type": "code",
   "execution_count": null,
   "id": "80e65584",
   "metadata": {},
   "outputs": [],
   "source": [
    "fig, axs = plt.subplots(2,2,figsize=(18,12))\n",
    "axs[0,0].plot(elev_values)\n",
    "axs[0,0].set_title(\"elev_values\")\n",
    "xticks = np.arange(0,len(elev_values),100)\n",
    "xlabels = [i for i in xticks]\n",
    "axs[0,1].plot(elev_acc)\n",
    "axs[0,1].set_title(\"elev_acc\")\n",
    "axs[1,0].plot(dist_acc)\n",
    "axs[1,0].set_title(\"dist_acc\")\n",
    "axs[1,1].plot(angles)\n",
    "axs[1,1].set_title(\"angles\")\n",
    "for i in range(2):\n",
    "    for j in range(2):\n",
    "        axs[i,j].set_xticks(xticks)\n",
    "        axs[i,j].set_xticklabels(xlabels, rotation=45)\n",
    "plt.tight_layout()"
   ]
  },
  {
   "cell_type": "code",
   "execution_count": null,
   "id": "97f1f587",
   "metadata": {},
   "outputs": [],
   "source": [
    "fig, axs = plt.subplots(2,2,figsize=(12,10))\n",
    "fr=0\n",
    "to=100\n",
    "title_add = f\"{fr}:{to}\"\n",
    "tick_inc = 20\n",
    "axs[0,0].plot(elev_values[fr:to])\n",
    "axs[0,0].set_title(f\"elev_values:{title_add}\")\n",
    "xticks = np.arange(0,len(elev_values[fr:to]),tick_inc)\n",
    "xlabels = [i for i in xticks]\n",
    "axs[0,1].plot(elev_acc[fr:to])\n",
    "axs[0,1].set_title(f\"elev_acc:{title_add}\")\n",
    "axs[1,0].plot(dist_acc[fr:to])\n",
    "axs[1,0].set_title(f\"dist_acc:{title_add}\")\n",
    "axs[1,1].plot(angles[fr:to])\n",
    "axs[1,1].set_title(f\"angles:{title_add}\")\n",
    "for i in range(2):\n",
    "    for j in range(2):\n",
    "        axs[i,j].set_xlim(fr,to)\n",
    "        axs[i,j].set_xticks(xticks)\n",
    "        axs[i,j].set_xticklabels(xlabels, rotation=45)\n",
    "plt.tight_layout()\n",
    "#plt.plot()"
   ]
  },
  {
   "cell_type": "markdown",
   "id": "b504c292",
   "metadata": {},
   "source": [
    "fig = plt.figure(figsize=(10,6))\n",
    "plt.plot(elev_acc[0:500])\n",
    "x = [20, 62, 151, 264, 275, 305, 327, 446, 461]\n",
    "plt.scatter(x,np.zeros(len(x)))"
   ]
  },
  {
   "cell_type": "markdown",
   "id": "9a465277",
   "metadata": {},
   "source": [
    "fig, axs = plt.subplots(4)\n",
    "pick_until = 500\n",
    "axs[0].plot(angles[0:pick_until])\n",
    "block_sizes = [5, 10, 20]\n",
    "added_angles_0 = np.convolve(angles[0:pick_until],np.ones(block_sizes[0],dtype=int),'valid')\n",
    "axs[1].plot(added_angles_0)\n",
    "added_angles_1 = np.convolve(angles[0:pick_until],np.ones(block_sizes[1],dtype=int),'valid')\n",
    "axs[2].plot(added_angles_1)\n",
    "added_angles_2 = np.convolve(angles[0:pick_until],np.ones(block_sizes[2],dtype=int),'valid')\n",
    "axs[3].plot(added_angles_2)\n",
    "\n",
    "tresh=10\n",
    "changes_row2 = find_direction_change_indices(added_angles_0, tresh=tresh)\n",
    "axs[1].scatter(np.squeeze(changes_row2), np.zeros(len(changes_row2)))\n",
    "changes_row3 = find_direction_change_indices(added_angles_1, tresh=tresh)\n",
    "axs[2].scatter(np.squeeze(changes_row3), np.zeros(len(changes_row3)))\n",
    "changes_row4 = find_direction_change_indices(added_angles_2, tresh=tresh)\n",
    "axs[3].scatter(np.squeeze(changes_row4), np.zeros(len(changes_row4)))\n",
    "\n",
    "\n",
    "plt.tight_layout()\n"
   ]
  },
  {
   "cell_type": "code",
   "execution_count": null,
   "id": "10cfddf9",
   "metadata": {},
   "outputs": [],
   "source": [
    "from helpers import find_direction_change_indices\n",
    "fig, axs = plt.subplots(3,3,figsize=(12,10))\n",
    "pick_until = 500\n",
    "change_points = {}\n",
    "for i in range(3):\n",
    "    for j in range(3):\n",
    "        block_size = 10*(i+1)\n",
    "        tresh = 5*(j+1)\n",
    "        title_str = f\"block_size:{block_size},tresh:{tresh}\"\n",
    "        added_angles = np.convolve(angles[0:pick_until],np.ones(block_size,dtype=int),'valid')\n",
    "        cpts = find_direction_change_indices(added_angles, tresh=tresh)\n",
    "        change_points[title_str] = cpts\n",
    "        axs[i,j].plot(added_angles)\n",
    "        axs[i,j].scatter(np.squeeze(cpts), np.zeros(len(cpts)), s=20, c='red', marker='o')\n",
    "        axs[i,j].set_title(title_str)\n",
    "        #axs[i,j].set_xticks(xticks)\n",
    "        #axs[i,j].set_xticklabels(xlabels, rotation=45)\n",
    "plt.tight_layout()"
   ]
  },
  {
   "cell_type": "code",
   "execution_count": null,
   "id": "8cb53b6e",
   "metadata": {},
   "outputs": [],
   "source": [
    "print(np.column_stack((dist_acquired[0:50], elev_values[0:50],angles[0:50])))"
   ]
  },
  {
   "cell_type": "code",
   "execution_count": null,
   "id": "b5b0101d",
   "metadata": {},
   "outputs": [],
   "source": [
    "X = angles\n",
    "print(f\"len of X = {len(X)}\")\n",
    "change_idx_X = np.squeeze(np.argwhere(X[1:]*X[:-1]<0))\n",
    "treshDist = 50 #if a block is less than 25 meters long - discard it\n",
    "treshElev = 2\n",
    "modesDetected = []\n",
    "wasDiscarded = np.zeros(len(change_idx_X))\n",
    "new_change_idx = [0]\n",
    "fr = 0\n",
    "discardThis = False\n",
    "added_mode = 'NONE'\n",
    "for idAt in range(0,len(change_idx_X)):\n",
    "    \n",
    "    wasDiscardedPrev = idAt>1 and wasDiscarded[idAt-2]\n",
    "    wasDiscardedCurrent = idAt>0 and wasDiscarded[idAt-1]\n",
    "    \n",
    "    i = change_idx_X[idAt]\n",
    "    to = i-1\n",
    "    mode = '?' \n",
    "    if (X[i]<0 and X[i+1]>0):\n",
    "        mode = 'dec' \n",
    "    if (X[i]>0 and X[i+1]<0):\n",
    "        mode = 'INC' \n",
    "    dist = np.sum(dist_acquired[fr:to])\n",
    "    elevIncDec = np.sum(elev_values[fr:to])\n",
    "    elevChange = np.sum(np.abs(elev_values[fr:to]))\n",
    "    angle_of_block = (180/np.pi)*np.arctan2(elevIncDec, dist)\n",
    "    discardDueToBlockLength = dist<treshDist\n",
    "    discardDueToElevChange = elevChange<treshElev\n",
    "    \n",
    "    discardDueToPreviousDiscard = wasDiscardedCurrent and not wasDiscardedPrev\n",
    "    \n",
    "    if (np.abs(angle_of_block)<1):\n",
    "        mode = 'FLT' \n",
    "    \n",
    "    modesDetected.append(mode)\n",
    "    \n",
    "    discardString = \"\"\n",
    "    if discardDueToBlockLength:\n",
    "        discardString += \"BL,\"\n",
    "    if discardDueToElevChange:\n",
    "        discardString += \"EC,\"\n",
    "    if discardDueToPreviousDiscard:\n",
    "        discardString += \"PD,\"\n",
    "        \n",
    "    # now this block can be either INC dec or FLT\n",
    "    # it should be needed to be discarded or not\n",
    "    # first of all consecutive FLT blocks needs to be combined\n",
    "        \n",
    "    wasDiscarded[idAt] = discardDueToBlockLength  or discardDueToElevChange\n",
    "    \n",
    "    print(f\"{discardString:9s}-({i}:fr({fr:3d}):to({to:3d}):m({mode}):dist({dist:8.4f}):aob({angle_of_block:8.4f}),elevChange({elevChange:5.3f}),elevIncDec({elevIncDec:5.3f})\")\n",
    "    if (idAt==0):\n",
    "        print(f\"***add-to {to} as first\")\n",
    "        new_change_idx.append(to)\n",
    "    if idAt>0:\n",
    "        #now lets see if we will add i-1 as change point\n",
    "        mode_was = modesDetected[idAt-1]\n",
    "        mode_is = mode\n",
    "        if wasDiscarded[idAt]:\n",
    "            pass\n",
    "        elif (mode_was==\"FLT\") and (mode_is==\"FLT\"):\n",
    "            pass\n",
    "        elif (added_mode==mode_is):\n",
    "            pass\n",
    "        elif (mode_was!=\"FLT\") and (mode_is==\"FLT\"):\n",
    "            new_change_idx.append(fr)\n",
    "            added_mode = \"FLT\"\n",
    "            print(f\"***add {fr} because it changed to FLAT\")\n",
    "        elif not wasDiscarded[idAt]:\n",
    "            new_change_idx.append(fr)\n",
    "            added_mode = mode_is\n",
    "            print(f\"***add {fr} because {mode_is} is not discarded\")\n",
    "    fr = i\n",
    "print(\"new_change_idx:\",new_change_idx)"
   ]
  },
  {
   "cell_type": "code",
   "execution_count": null,
   "id": "c416c7da",
   "metadata": {},
   "outputs": [],
   "source": [
    "fr = 0\n",
    "for idAt in range(1,len(new_change_idx)):  \n",
    "    i = new_change_idx[idAt]\n",
    "    to = i-1\n",
    "    \n",
    "    dist = np.sum(dist_acquired[fr:to])\n",
    "    elevIncDec = np.sum(elev_values[fr:to])\n",
    "    V = np.array(elev_values[fr:to])\n",
    "    elevInc = np.sum(V[V>0])\n",
    "    elevDec = -np.sum(V[V<0])\n",
    "    angle_of_block_up = (180/np.pi)*np.arctan2(elevInc, dist)\n",
    "    angle_of_block_down = (180/np.pi)*np.arctan2(elevDec, dist)\n",
    "    angle_of_block = max(angle_of_block_up, angle_of_block_down)\n",
    "    \n",
    "    mode = 'FLT' \n",
    "    if (elevDec>treshElev and elevDec>elevInc and angle_of_block_down>=0.2):\n",
    "        mode = 'dec' \n",
    "    if (elevInc>treshElev and elevInc>elevDec and angle_of_block_up>=0.2):\n",
    "        mode = 'INC'     \n",
    "    \n",
    "    str0 = f\"dist({dist:8.3f})\"\n",
    "    str1 = f\"elevChange({max(elevInc,elevDec):6.2f})\"\n",
    "    str2 = f\"elevInc({elevInc:6.2f})\"\n",
    "    str3 = f\"elevDec({elevDec:6.2f})\"\n",
    "    print(f\"{idAt:4d}:{i:4d}:fr({fr:4d}):to({to:4d}):m({mode}):{str0:12}:aob({angle_of_block:8.4f}),{str1:16},{str2:9},{str3:9}\")\n",
    "    fr = i"
   ]
  },
  {
   "cell_type": "code",
   "execution_count": null,
   "id": "8a750af2",
   "metadata": {},
   "outputs": [],
   "source": []
  }
 ],
 "metadata": {
  "kernelspec": {
   "display_name": "gpspy",
   "language": "python",
   "name": "python3"
  },
  "language_info": {
   "codemirror_mode": {
    "name": "ipython",
    "version": 3
   },
   "file_extension": ".py",
   "mimetype": "text/x-python",
   "name": "python",
   "nbconvert_exporter": "python",
   "pygments_lexer": "ipython3",
   "version": "3.9.16"
  }
 },
 "nbformat": 4,
 "nbformat_minor": 5
}
